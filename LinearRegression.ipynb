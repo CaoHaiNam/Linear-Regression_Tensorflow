{
  "nbformat": 4,
  "nbformat_minor": 0,
  "metadata": {
    "colab": {
      "name": "LinearRegression.ipynb",
      "provenance": [],
      "collapsed_sections": [],
      "authorship_tag": "ABX9TyPDr+e0hgFp8ZiugJK75oSE",
      "include_colab_link": true
    },
    "kernelspec": {
      "name": "python3",
      "display_name": "Python 3"
    },
    "accelerator": "GPU"
  },
  "cells": [
    {
      "cell_type": "markdown",
      "metadata": {
        "id": "view-in-github",
        "colab_type": "text"
      },
      "source": [
        "<a href=\"https://colab.research.google.com/github/CaoHaiNam/Linear-Regression_Tensorflow/blob/master/LinearRegression.ipynb\" target=\"_parent\"><img src=\"https://colab.research.google.com/assets/colab-badge.svg\" alt=\"Open In Colab\"/></a>"
      ]
    },
    {
      "cell_type": "code",
      "metadata": {
        "id": "MmS9QahXvH1t",
        "colab_type": "code",
        "colab": {}
      },
      "source": [
        "import numpy as np\n",
        "import tensorflow as tf\n",
        "import matplotlib.pyplot as plt"
      ],
      "execution_count": 0,
      "outputs": []
    },
    {
      "cell_type": "code",
      "metadata": {
        "id": "4L6Eccuzh-uv",
        "colab_type": "code",
        "outputId": "e9b7aee5-e415-4d30-a0fb-601e22208f94",
        "colab": {
          "base_uri": "https://localhost:8080/",
          "height": 35
        }
      },
      "source": [
        "tf.__version__"
      ],
      "execution_count": 0,
      "outputs": [
        {
          "output_type": "execute_result",
          "data": {
            "text/plain": [
              "'2.2.0-rc3'"
            ]
          },
          "metadata": {
            "tags": []
          },
          "execution_count": 2
        }
      ]
    },
    {
      "cell_type": "code",
      "metadata": {
        "id": "PAh2F16ANuW9",
        "colab_type": "code",
        "colab": {}
      },
      "source": [
        "tf.compat.v1.disable_eager_execution()"
      ],
      "execution_count": 0,
      "outputs": []
    },
    {
      "cell_type": "code",
      "metadata": {
        "id": "E2KLkVTLvpkZ",
        "colab_type": "code",
        "colab": {}
      },
      "source": [
        "X_train = np.asarray([3.3, 4.4, 5.5, 6.71, 6.93, 4.168, 9.779, 6.182, 7.59, 2.167,\n",
        "                      7.042, 10.791, 5.313, 7.997, 5.654, 9.27, 3.1])\n",
        "Y_train = np.asarray([1.7, 2.76, 2.09, 3.19, 1.694, 1.573, 3.366, 2.596, 2.53, 1.221,\n",
        "                      2.827, 3.465, 1.65, 2.904, 2.42, 2.94, 1.3])"
      ],
      "execution_count": 0,
      "outputs": []
    },
    {
      "cell_type": "code",
      "metadata": {
        "id": "GYX__-6wPJIS",
        "colab_type": "code",
        "colab": {}
      },
      "source": [
        "n_sample = X_train.shape[0]"
      ],
      "execution_count": 0,
      "outputs": []
    },
    {
      "cell_type": "code",
      "metadata": {
        "id": "Edl51wMje1-c",
        "colab_type": "code",
        "colab": {}
      },
      "source": [
        "tf.compat.v1.reset_default_graph()"
      ],
      "execution_count": 0,
      "outputs": []
    },
    {
      "cell_type": "code",
      "metadata": {
        "id": "nX-QaHHIv29Q",
        "colab_type": "code",
        "colab": {}
      },
      "source": [
        "x = tf.compat.v1.placeholder(dtype=np.float32, name='x')\n",
        "y = tf.compat.v1.placeholder(dtype=np.float32, name='y')"
      ],
      "execution_count": 0,
      "outputs": []
    },
    {
      "cell_type": "code",
      "metadata": {
        "id": "aGXMUH7VPfzi",
        "colab_type": "code",
        "colab": {}
      },
      "source": [
        "w = tf.compat.v1.get_variable(name='weigh', initializer=tf.constant(1.0))\n",
        "b = tf.compat.v1.get_variable(name='bias', initializer=tf.constant(0.0))"
      ],
      "execution_count": 0,
      "outputs": []
    },
    {
      "cell_type": "code",
      "metadata": {
        "id": "hOQbT_LTRIMQ",
        "colab_type": "code",
        "colab": {}
      },
      "source": [
        "y_predict = x*w + b"
      ],
      "execution_count": 0,
      "outputs": []
    },
    {
      "cell_type": "code",
      "metadata": {
        "id": "60_d-jjZRnES",
        "colab_type": "code",
        "colab": {}
      },
      "source": [
        "loss = tf.math.square(y - y_predict, name='loss')"
      ],
      "execution_count": 0,
      "outputs": []
    },
    {
      "cell_type": "code",
      "metadata": {
        "id": "BaYhBFahRzsf",
        "colab_type": "code",
        "colab": {}
      },
      "source": [
        "optimizer = tf.compat.v1.train.GradientDescentOptimizer(learning_rate=0.0001).minimize(loss)"
      ],
      "execution_count": 0,
      "outputs": []
    },
    {
      "cell_type": "code",
      "metadata": {
        "id": "xlxiqhn4XNbr",
        "colab_type": "code",
        "colab": {}
      },
      "source": [
        "with tf.compat.v1.Session() as s:\n",
        "  s.run(tf.compat.v1.global_variables_initializer())\n",
        "  for i in range(100):\n",
        "    total_loss = 0\n",
        "    for k in range(n_sample):\n",
        "      _, _loss = s.run([optimizer, loss], feed_dict={x:X_train[k], y:Y_train[k]})\n",
        "      total_loss += _loss \n",
        "    print('epoch {0}: {1}'.format(i, total_loss/n_sample)) \n",
        "  w_out, b_out = s.run([w,b])"
      ],
      "execution_count": 0,
      "outputs": []
    },
    {
      "cell_type": "code",
      "metadata": {
        "id": "AwB8vazWfuk3",
        "colab_type": "code",
        "outputId": "0c86abdc-f930-470a-8270-2243817763ce",
        "colab": {
          "base_uri": "https://localhost:8080/",
          "height": 35
        }
      },
      "source": [
        "print(w_out, b_out)"
      ],
      "execution_count": 0,
      "outputs": [
        {
          "output_type": "stream",
          "text": [
            "0.3705016 -0.05233688\n"
          ],
          "name": "stdout"
        }
      ]
    },
    {
      "cell_type": "code",
      "metadata": {
        "id": "qir31v0CiLTq",
        "colab_type": "code",
        "colab": {}
      },
      "source": [
        "from google.colab import files\n",
        "import pickle\n",
        "with open('example.txt', 'w') as f:\n",
        "  pickle.dump(f)\n",
        "files.download('example.txt')"
      ],
      "execution_count": 0,
      "outputs": []
    },
    {
      "cell_type": "code",
      "metadata": {
        "id": "KPTLb9EahtHD",
        "colab_type": "code",
        "colab": {}
      },
      "source": [
        "import pickle\n",
        "pickle.dump([w_out, b_out], file=)"
      ],
      "execution_count": 0,
      "outputs": []
    }
  ]
}